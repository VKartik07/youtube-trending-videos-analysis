{
    "metadata": {
        "kernelspec": {
            "name": "python3",
            "display_name": "Python 3 (ipykernel)",
            "language": "python"
        },
        "language_info": {
            "name": "python",
            "version": "3.10.2",
            "mimetype": "text/x-python",
            "codemirror_mode": {
                "name": "ipython",
                "version": 3
            },
            "pygments_lexer": "ipython3",
            "nbconvert_exporter": "python",
            "file_extension": ".py"
        }
    },
    "nbformat_minor": 2,
    "nbformat": 4,
    "cells": [
        {
            "cell_type": "code",
            "source": [
                "import pyodbc\r\n",
                "import pandas as pd"
            ],
            "metadata": {
                "azdata_cell_guid": "224c98d4-284e-4db6-b94d-220a50de9890",
                "language": "python"
            },
            "outputs": [],
            "execution_count": 1
        },
        {
            "cell_type": "code",
            "source": [
                "df = pd.read_csv(r\"C:\\Users\\V_Kartik\\Desktop\\Kartik\\Data Projects\\YouTubeAPI_Trending_Analysis\\Data\\Combined_DF.csv\")\r\n",
                "df.head()"
            ],
            "metadata": {
                "language": "python",
                "azdata_cell_guid": "e10679c9-fc6c-4e92-b4ea-d1d70e280cf7",
                "tags": [
                    "hide_input"
                ]
            },
            "outputs": [
                {
                    "output_type": "execute_result",
                    "execution_count": 6,
                    "data": {
                        "text/plain": "      video_id trending_date channel_title  category_id  \\\n0  n1WpP7iowLc      17.14.11    EminemVEVO           10   \n1  0dBIkQ4Mz1M      17.14.11     iDubbbzTV           23   \n2  5qpjK5DgCt4      17.14.11  Rudy Mancuso           23   \n3  d380meD0W0M      17.14.11      nigahiga           24   \n4  2Vv-BfVoq4g      17.14.11    Ed Sheeran           10   \n\n               publish_time     views    likes  dislikes  comment_count  \\\n0  2017-11-10T17:00:03.000Z  17158579   787425     43420         125882   \n1  2017-11-13T17:00:00.000Z   1014651   127794      1688          13030   \n2  2017-11-12T19:05:24.000Z   3191434   146035      5339           8181   \n3  2017-11-12T18:01:41.000Z   2095828   132239      1989          17518   \n4  2017-11-09T11:04:14.000Z  33523622  1634130     21082          85067   \n\n   comments_disabled  ratings_disabled  video_error_or_removed region  \\\n0              False             False                   False     CA   \n1              False             False                   False     CA   \n2              False             False                   False     CA   \n3              False             False                   False     CA   \n4              False             False                   False     CA   \n\n  category_title  \n0          Music  \n1         Comedy  \n2         Comedy  \n3  Entertainment  \n4          Music  ",
                        "text/html": "<div>\n<style scoped>\n    .dataframe tbody tr th:only-of-type {\n        vertical-align: middle;\n    }\n\n    .dataframe tbody tr th {\n        vertical-align: top;\n    }\n\n    .dataframe thead th {\n        text-align: right;\n    }\n</style>\n<table border=\"1\" class=\"dataframe\">\n  <thead>\n    <tr style=\"text-align: right;\">\n      <th></th>\n      <th>video_id</th>\n      <th>trending_date</th>\n      <th>channel_title</th>\n      <th>category_id</th>\n      <th>publish_time</th>\n      <th>views</th>\n      <th>likes</th>\n      <th>dislikes</th>\n      <th>comment_count</th>\n      <th>comments_disabled</th>\n      <th>ratings_disabled</th>\n      <th>video_error_or_removed</th>\n      <th>region</th>\n      <th>category_title</th>\n    </tr>\n  </thead>\n  <tbody>\n    <tr>\n      <th>0</th>\n      <td>n1WpP7iowLc</td>\n      <td>17.14.11</td>\n      <td>EminemVEVO</td>\n      <td>10</td>\n      <td>2017-11-10T17:00:03.000Z</td>\n      <td>17158579</td>\n      <td>787425</td>\n      <td>43420</td>\n      <td>125882</td>\n      <td>False</td>\n      <td>False</td>\n      <td>False</td>\n      <td>CA</td>\n      <td>Music</td>\n    </tr>\n    <tr>\n      <th>1</th>\n      <td>0dBIkQ4Mz1M</td>\n      <td>17.14.11</td>\n      <td>iDubbbzTV</td>\n      <td>23</td>\n      <td>2017-11-13T17:00:00.000Z</td>\n      <td>1014651</td>\n      <td>127794</td>\n      <td>1688</td>\n      <td>13030</td>\n      <td>False</td>\n      <td>False</td>\n      <td>False</td>\n      <td>CA</td>\n      <td>Comedy</td>\n    </tr>\n    <tr>\n      <th>2</th>\n      <td>5qpjK5DgCt4</td>\n      <td>17.14.11</td>\n      <td>Rudy Mancuso</td>\n      <td>23</td>\n      <td>2017-11-12T19:05:24.000Z</td>\n      <td>3191434</td>\n      <td>146035</td>\n      <td>5339</td>\n      <td>8181</td>\n      <td>False</td>\n      <td>False</td>\n      <td>False</td>\n      <td>CA</td>\n      <td>Comedy</td>\n    </tr>\n    <tr>\n      <th>3</th>\n      <td>d380meD0W0M</td>\n      <td>17.14.11</td>\n      <td>nigahiga</td>\n      <td>24</td>\n      <td>2017-11-12T18:01:41.000Z</td>\n      <td>2095828</td>\n      <td>132239</td>\n      <td>1989</td>\n      <td>17518</td>\n      <td>False</td>\n      <td>False</td>\n      <td>False</td>\n      <td>CA</td>\n      <td>Entertainment</td>\n    </tr>\n    <tr>\n      <th>4</th>\n      <td>2Vv-BfVoq4g</td>\n      <td>17.14.11</td>\n      <td>Ed Sheeran</td>\n      <td>10</td>\n      <td>2017-11-09T11:04:14.000Z</td>\n      <td>33523622</td>\n      <td>1634130</td>\n      <td>21082</td>\n      <td>85067</td>\n      <td>False</td>\n      <td>False</td>\n      <td>False</td>\n      <td>CA</td>\n      <td>Music</td>\n    </tr>\n  </tbody>\n</table>\n</div>"
                    },
                    "metadata": {}
                }
            ],
            "execution_count": 6
        },
        {
            "cell_type": "code",
            "source": [
                "server = 'LAPTOP-VKARTIK' \r\n",
                "database = 'YouTubeAPI' \r\n",
                "username = '' \r\n",
                "password = '' \r\n",
                "cnxn = pyodbc.connect('DRIVER={SQL Server};SERVER='+server+';DATABASE='+database+';UID='+username+';PWD='+ password)\r\n",
                "cnxn.setdecoding(pyodbc.SQL_CHAR, encoding='latin1')\r\n",
                "cnxn.setencoding('latin1')\r\n",
                "cursor = cnxn.cursor()\r\n",
                "for index, row in df.iterrows():\r\n",
                "     cursor.execute(\"INSERT INTO YouTubeAPI.dbo.youtube_stats(video_id, trending_date, channel_title, category_id, publish_time, views, likes, dislikes, comment_count, comments_disabled, ratings_disabled, video_error_or_removed, region, category_title) values(?,?,?,?,?,?,?,?,?,?,?,?,?,?)\", row.video_id, row.trending_date, row.channel_title, row.category_id, row.publish_time, row.views, row.likes, row.dislikes, row.comment_count, row.comments_disabled, row.ratings_disabled, row.video_error_or_removed, row.region, row.category_title)\r\n",
                "cnxn.commit()\r\n",
                "cursor.close()"
            ],
            "metadata": {
                "language": "python",
                "azdata_cell_guid": "024e56bd-30c5-4020-8e4f-cea0f83d0f21"
            },
            "outputs": [],
            "execution_count": 7
        },
        {
            "cell_type": "code",
            "source": [
                "sql_query = pd.read_sql_query(''' \r\n",
                "                              SELECT * FROM YouTubeAPI.dbo.clean_youtube_stats\r\n",
                "                              '''\r\n",
                "                              ,cnxn) \r\n",
                "\r\n",
                "df = pd.DataFrame(sql_query)\r\n",
                "df.to_csv (r'C:\\Users\\V_Kartik\\Desktop\\Kartik\\Data Projects\\YouTubeAPI_Trending_Analysis\\Data\\Clean_Combined.csv', index = False)"
            ],
            "metadata": {
                "language": "python",
                "azdata_cell_guid": "d0033193-96ea-4e9d-ad97-1e268330df3c"
            },
            "outputs": [
                {
                    "output_type": "stream",
                    "name": "stderr",
                    "text": "C:\\Users\\V_Kartik\\AppData\\Roaming\\Python\\Python310\\site-packages\\pandas\\io\\sql.py:761: UserWarning: pandas only support SQLAlchemy connectable(engine/connection) ordatabase string URI or sqlite3 DBAPI2 connectionother DBAPI2 objects are not tested, please consider using SQLAlchemy\n  warnings.warn(\n"
                }
            ],
            "execution_count": 9
        }
    ]
}